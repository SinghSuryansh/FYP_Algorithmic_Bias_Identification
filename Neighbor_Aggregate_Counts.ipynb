{
 "cells": [
  {
   "cell_type": "code",
   "execution_count": 1,
   "metadata": {},
   "outputs": [],
   "source": [
    "import pandas as pd\n",
    "import io, os"
   ]
  },
  {
   "cell_type": "code",
   "execution_count": 2,
   "metadata": {},
   "outputs": [],
   "source": [
    "string = ''"
   ]
  },
  {
   "cell_type": "code",
   "execution_count": 5,
   "metadata": {},
   "outputs": [],
   "source": [
    "datapath = 'D:/FYP_Data/Travelit/Travelit/'\n",
    "for root, directories, files in os.walk(datapath):\n",
    "    for filename in files:\n",
    "        \n",
    "        filepath = os.path.join(root, filename)\n",
    "        \n",
    "        f = open(filepath,\"r\",encoding='latin')\n",
    "        content = f.read()\n",
    "        \n",
    "        string+= content\n",
    "        string+= ' '"
   ]
  },
  {
   "cell_type": "code",
   "execution_count": 12,
   "metadata": {},
   "outputs": [],
   "source": [
    "string = string.lower()"
   ]
  },
  {
   "cell_type": "code",
   "execution_count": 48,
   "metadata": {},
   "outputs": [],
   "source": [
    "#Creating a dictionary:\n",
    "mydict={}"
   ]
  },
  {
   "cell_type": "code",
   "execution_count": 49,
   "metadata": {},
   "outputs": [
    {
     "name": "stdout",
     "output_type": "stream",
     "text": [
      "{}\n"
     ]
    }
   ],
   "source": [
    "print(mydict)"
   ]
  },
  {
   "cell_type": "code",
   "execution_count": 50,
   "metadata": {},
   "outputs": [],
   "source": [
    "#Inserting the neighboring terms into the dictionary:\n",
    "mydict[\"whites\"] = 0\n",
    "mydict[\"mulattoes\"] = 0\n",
    "mydict[\"creoles\"] = 0\n",
    "mydict[\"mulattos\"] = 0\n",
    "mydict[\"slavery\"] = 0\n",
    "mydict[\"aboriginal\"] = 0\n",
    "mydict[\"castes\"] = 0\n",
    "mydict[\"peans\"] = 0\n",
    "mydict[\"inhabiting\"] = 0\n",
    "mydict[\"lians\"] = 0\n",
    "mydict[\"africa\"] = 0\n",
    "mydict[\"aborigines\"] = 0\n",
    "mydict[\"malay\"] = 0\n",
    "mydict[\"malayan\"] = 0\n",
    "mydict[\"polynesian\"] = 0\n",
    "mydict[\"aboriginal\"] = 0\n",
    "mydict[\"africans\"] = 0\n",
    "mydict[\"bushmen\"] = 0\n",
    "mydict[\"asiatic\"] = 0\n",
    "mydict[\"celebes\"] = 0\n",
    "mydict[\"negroes\"] = 0\n",
    "mydict[\"natives\"] = 0\n",
    "mydict[\"negro\"] = 0\n",
    "mydict[\"indians\"] = 0\n",
    "mydict[\"slaves\"] = 0\n",
    "mydict[\"traders\"] = 0\n",
    "mydict[\"savages\"] = 0\n",
    "mydict[\"europeans\"] = 0\n",
    "mydict[\"blacks\"] = 0\n",
    "mydict[\"islanders\"] = 0\n",
    "mydict[\"dyaks\"] = 0\n",
    "mydict[\"native\"] = 0\n",
    "mydict[\"slave\"] = 0\n",
    "mydict[\"africans\"] = 0\n",
    "mydict[\"planters\"] = 0\n",
    "mydict[\"bondsmen\"] = 0\n",
    "mydict[\"servitude\"] = 0\n",
    "mydict[\"employer\"] = 0\n",
    "mydict[\"nomadic\"] = 0\n",
    "mydict[\"jackass\"] = 0\n",
    "mydict[\"kaffir\"] = 0\n",
    "mydict[\"mestizos\"] = 0\n",
    "mydict[\"blackpeople\"] = 0"
   ]
  },
  {
   "cell_type": "code",
   "execution_count": 51,
   "metadata": {},
   "outputs": [
    {
     "name": "stdout",
     "output_type": "stream",
     "text": [
      "{'whites': 0, 'mulattoes': 0, 'creoles': 0, 'mulattos': 0, 'slavery': 0, 'aboriginal': 0, 'castes': 0, 'peans': 0, 'inhabiting': 0, 'lians': 0, 'africa': 0, 'aborigines': 0, 'malay': 0, 'malayan': 0, 'polynesian': 0, 'africans': 0, 'bushmen': 0, 'asiatic': 0, 'celebes': 0, 'negroes': 0, 'natives': 0, 'negro': 0, 'indians': 0, 'slaves': 0, 'traders': 0, 'savages': 0, 'europeans': 0, 'blacks': 0, 'islanders': 0, 'dyaks': 0, 'native': 0, 'slave': 0, 'planters': 0, 'bondsmen': 0, 'servitude': 0, 'employer': 0, 'nomadic': 0, 'jackass': 0, 'kaffir': 0, 'mestizos': 0, 'blackpeople': 0}\n"
     ]
    }
   ],
   "source": [
    "print(mydict)"
   ]
  },
  {
   "cell_type": "code",
   "execution_count": 37,
   "metadata": {},
   "outputs": [],
   "source": [
    "# Counting the frequency of the neighbors:\n",
    "def word_count(str):\n",
    "    words = str.split()\n",
    "    \n",
    "    for word in words:\n",
    "        if word in mydict:\n",
    "            mydict[word]+=1"
   ]
  },
  {
   "cell_type": "code",
   "execution_count": 52,
   "metadata": {},
   "outputs": [],
   "source": [
    "word_count(string)"
   ]
  },
  {
   "cell_type": "code",
   "execution_count": 53,
   "metadata": {},
   "outputs": [
    {
     "name": "stdout",
     "output_type": "stream",
     "text": [
      "{'whites': 1691, 'mulattoes': 139, 'creoles': 401, 'mulattos': 39, 'slavery': 2914, 'aboriginal': 1077, 'castes': 381, 'peans': 211, 'inhabiting': 958, 'lians': 67, 'africa': 3561, 'aborigines': 1339, 'malay': 2617, 'malayan': 486, 'polynesian': 393, 'africans': 279, 'bushmen': 147, 'asiatic': 2577, 'celebes': 279, 'negroes': 4262, 'natives': 25378, 'negro': 4969, 'indians': 17844, 'slaves': 7224, 'traders': 2022, 'savages': 2260, 'europeans': 4070, 'blacks': 1538, 'islanders': 1518, 'dyaks': 570, 'native': 31482, 'slave': 5482, 'planters': 1317, 'bondsmen': 67, 'servitude': 349, 'employer': 199, 'nomadic': 269, 'jackass': 81, 'kaffir': 119, 'mestizos': 39, 'blackpeople': 1}\n"
     ]
    }
   ],
   "source": [
    "print(mydict)"
   ]
  },
  {
   "cell_type": "code",
   "execution_count": 54,
   "metadata": {},
   "outputs": [],
   "source": [
    "#Printing the sorted dictionary:\n",
    "import operator\n",
    "sorted_d = sorted(mydict.items(), key=operator.itemgetter(1))"
   ]
  },
  {
   "cell_type": "code",
   "execution_count": 55,
   "metadata": {},
   "outputs": [
    {
     "data": {
      "text/plain": [
       "[('blackpeople', 1),\n",
       " ('mulattos', 39),\n",
       " ('mestizos', 39),\n",
       " ('lians', 67),\n",
       " ('bondsmen', 67),\n",
       " ('jackass', 81),\n",
       " ('kaffir', 119),\n",
       " ('mulattoes', 139),\n",
       " ('bushmen', 147),\n",
       " ('employer', 199),\n",
       " ('peans', 211),\n",
       " ('nomadic', 269),\n",
       " ('africans', 279),\n",
       " ('celebes', 279),\n",
       " ('servitude', 349),\n",
       " ('castes', 381),\n",
       " ('polynesian', 393),\n",
       " ('creoles', 401),\n",
       " ('malayan', 486),\n",
       " ('dyaks', 570),\n",
       " ('inhabiting', 958),\n",
       " ('aboriginal', 1077),\n",
       " ('planters', 1317),\n",
       " ('aborigines', 1339),\n",
       " ('islanders', 1518),\n",
       " ('blacks', 1538),\n",
       " ('whites', 1691),\n",
       " ('traders', 2022),\n",
       " ('savages', 2260),\n",
       " ('asiatic', 2577),\n",
       " ('malay', 2617),\n",
       " ('slavery', 2914),\n",
       " ('africa', 3561),\n",
       " ('europeans', 4070),\n",
       " ('negroes', 4262),\n",
       " ('negro', 4969),\n",
       " ('slave', 5482),\n",
       " ('slaves', 7224),\n",
       " ('indians', 17844),\n",
       " ('natives', 25378),\n",
       " ('native', 31482)]"
      ]
     },
     "execution_count": 55,
     "metadata": {},
     "output_type": "execute_result"
    }
   ],
   "source": [
    "sorted_d"
   ]
  },
  {
   "cell_type": "code",
   "execution_count": null,
   "metadata": {},
   "outputs": [],
   "source": []
  }
 ],
 "metadata": {
  "kernelspec": {
   "display_name": "Python 3",
   "language": "python",
   "name": "python3"
  },
  "language_info": {
   "codemirror_mode": {
    "name": "ipython",
    "version": 3
   },
   "file_extension": ".py",
   "mimetype": "text/x-python",
   "name": "python",
   "nbconvert_exporter": "python",
   "pygments_lexer": "ipython3",
   "version": "3.6.5"
  }
 },
 "nbformat": 4,
 "nbformat_minor": 2
}
