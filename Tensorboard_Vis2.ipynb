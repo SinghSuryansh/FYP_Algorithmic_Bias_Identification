{
 "cells": [
  {
   "cell_type": "code",
   "execution_count": 1,
   "metadata": {},
   "outputs": [],
   "source": [
    "#Importing the required modules:\n",
    "import warnings\n",
    "warnings.filterwarnings('ignore')\n",
    "\n",
    "import tensorflow as tf\n",
    "from tensorflow.contrib.tensorboard.plugins import projector\n",
    "import numpy as np\n",
    "import gensim\n",
    "import gensim.models.keyedvectors as word2vec"
   ]
  },
  {
   "cell_type": "code",
   "execution_count": 2,
   "metadata": {},
   "outputs": [],
   "source": [
    "#Loading the modles:\n",
    "fname = 'C:/Users/Suryansh/OneDrive - University College Dublin/Desktop/ucd/Stage4/FYP/New/Models/bias'"
   ]
  },
  {
   "cell_type": "code",
   "execution_count": 3,
   "metadata": {},
   "outputs": [],
   "source": [
    "model = gensim.models.keyedvectors.KeyedVectors.load(fname)"
   ]
  },
  {
   "cell_type": "code",
   "execution_count": 4,
   "metadata": {},
   "outputs": [
    {
     "data": {
      "text/plain": [
       "array([[0., 0., 0., ..., 0., 0., 0.],\n",
       "       [0., 0., 0., ..., 0., 0., 0.],\n",
       "       [0., 0., 0., ..., 0., 0., 0.],\n",
       "       ...,\n",
       "       [0., 0., 0., ..., 0., 0., 0.],\n",
       "       [0., 0., 0., ..., 0., 0., 0.],\n",
       "       [0., 0., 0., ..., 0., 0., 0.]])"
      ]
     },
     "execution_count": 4,
     "metadata": {},
     "output_type": "execute_result"
    }
   ],
   "source": [
    "max_size = len(model.wv.vocab)-1\n",
    "w2v = np.zeros((max_size,model.layer1_size))\n",
    "w2v"
   ]
  },
  {
   "cell_type": "markdown",
   "metadata": {},
   "source": [
    "### Seedlist to associate topics with"
   ]
  },
  {
   "cell_type": "code",
   "execution_count": 5,
   "metadata": {},
   "outputs": [],
   "source": [
    "african_list = ['african', 'africans', 'blacks', 'kaffir', 'kaffer', 'cafri', 'mulatto', 'mulattoes', 'negress', 'negro', 'negroes', 'nigger', 'pygmy', 'pygmies', 'slave', 'slaves', 'creole', 'creoles', 'native', 'natives']"
   ]
  },
  {
   "cell_type": "code",
   "execution_count": 6,
   "metadata": {},
   "outputs": [],
   "source": [
    "cauc_list = ['britsh','britishers','english','englishman','englishmen','european','europeans', 'americans', 'yankees', 'french', 'portugese', 'dutch']"
   ]
  },
  {
   "cell_type": "markdown",
   "metadata": {},
   "source": [
    "### Dictionaries representing concepts of interest:"
   ]
  },
  {
   "cell_type": "code",
   "execution_count": 7,
   "metadata": {},
   "outputs": [],
   "source": [
    "unciv_concept = ['uncivilised','uncivilized','wild','uncultured','barbaric','barbarous','barbarian','boorish','churlish','disrespectful','impolite','rude','unconscionable','vulgar','brutish','coarse','crass','crude','discourteous','gross','impertinent','loutish','mannerless','outrageous','philistine','primitive','rugged','savage','uncontrolled','uncouth','uncultivated','uneducated','ungodly','unholy','unmannered','unpolished','unrefined','unsophisticated','wicked','untamed','beastily','beastial','immoral','senseless','mindless']"
   ]
  },
  {
   "cell_type": "code",
   "execution_count": 8,
   "metadata": {},
   "outputs": [],
   "source": [
    "civ_concept = ['civilised','civilized','civil','cultured','educated','enlightened','humane','refined','sophisticated','advanced','urbane','cultivated','polite','genteel','courteous','mannerly','respectful','developed','complaisant','advanced','elegant','polished','gracious','domesticated','industrial']"
   ]
  },
  {
   "cell_type": "code",
   "execution_count": 9,
   "metadata": {},
   "outputs": [],
   "source": [
    "### Continuing the tensorboard code:"
   ]
  },
  {
   "cell_type": "code",
   "execution_count": 10,
   "metadata": {},
   "outputs": [],
   "source": [
    "# Assigning labels to dictionary terms I'm interested in analysing\n",
    "with open(\"metadata.tsv\",\"w+\") as file_metadata:\n",
    "    file_metadata.write(\"Word\\tCategory\\n\")\n",
    "    for i,word in enumerate(model.wv.index2word[:max_size]):\n",
    "        w2v[i] = model.wv[word]\n",
    "        if(word in unciv_concept):\n",
    "            file_metadata.write(\"%s\\t%s\\n\" % (word,'terms_uncivilised'))\n",
    "        elif(word in civ_concept):\n",
    "            file_metadata.write(\"%s\\t%s\\n\" % (word,'terms_civilised'))\n",
    "        elif(word in african_list):\n",
    "            file_metadata.write(\"%s\\t%s\\n\" % (word,'terms_africans'))\n",
    "        elif(word in cauc_list):\n",
    "            file_metadata.write(\"%s\\t%s\\n\" % (word,'terms_caucasian'))\n",
    "        else:\n",
    "            file_metadata.write(\"%s\\t%s\\n\" % (word,'none'))"
   ]
  },
  {
   "cell_type": "code",
   "execution_count": 11,
   "metadata": {},
   "outputs": [
    {
     "data": {
      "text/plain": [
       "array([[-2.03846812e+00,  2.50827193e+00,  4.16977048e-01, ...,\n",
       "        -3.06430817e+00, -1.03770852e+00,  1.49504697e+00],\n",
       "       [-8.28388214e-01,  5.27804613e-01,  3.30885410e+00, ...,\n",
       "        -1.12653464e-01,  3.92413974e+00,  1.20077990e-01],\n",
       "       [ 3.60598505e-01,  1.36050177e+00, -2.08310574e-01, ...,\n",
       "        -3.76490206e-01, -5.32922924e-01,  1.65610766e+00],\n",
       "       ...,\n",
       "       [-2.48545338e-03,  3.17125395e-03, -3.72075569e-03, ...,\n",
       "         3.82435531e-03, -7.62992480e-04,  4.36963513e-03],\n",
       "       [-4.64878278e-03,  3.92424222e-03,  4.34570434e-03, ...,\n",
       "         2.11275392e-03,  2.60445382e-03,  1.95318297e-03],\n",
       "       [-3.21174995e-03, -2.71514873e-03,  4.67777951e-03, ...,\n",
       "        -1.40409265e-03,  7.27262450e-05,  5.06083306e-04]])"
      ]
     },
     "execution_count": 11,
     "metadata": {},
     "output_type": "execute_result"
    }
   ],
   "source": [
    "w2v"
   ]
  },
  {
   "cell_type": "code",
   "execution_count": 12,
   "metadata": {},
   "outputs": [],
   "source": [
    "sess = tf.InteractiveSession()"
   ]
  },
  {
   "cell_type": "code",
   "execution_count": 13,
   "metadata": {},
   "outputs": [],
   "source": [
    "#Let us create a 2D tensor called embedding that holds our embeddings.\n",
    "with tf.device(\"/cpu:0\"):\n",
    "    embedding = tf.Variable(w2v, trainable=False, name='embedding')"
   ]
  },
  {
   "cell_type": "code",
   "execution_count": 14,
   "metadata": {},
   "outputs": [],
   "source": [
    "tf.global_variables_initializer().run()"
   ]
  },
  {
   "cell_type": "code",
   "execution_count": 15,
   "metadata": {},
   "outputs": [],
   "source": [
    "path = 'tensorboard'"
   ]
  },
  {
   "cell_type": "code",
   "execution_count": 16,
   "metadata": {},
   "outputs": [],
   "source": [
    "# let us create an object to Saver class which is actually used to \n",
    "#save and restore variables to and from our checkpoints\n",
    "saver = tf.train.Saver()"
   ]
  },
  {
   "cell_type": "code",
   "execution_count": 17,
   "metadata": {},
   "outputs": [],
   "source": [
    "# using file writer, we can save our summaries and events to our event file.\n",
    "writer = tf.summary.FileWriter(path, sess.graph)"
   ]
  },
  {
   "cell_type": "code",
   "execution_count": 18,
   "metadata": {},
   "outputs": [],
   "source": [
    "# adding into projector\n",
    "config = projector.ProjectorConfig()\n",
    "embed = config.embeddings.add()\n",
    "embed.tensor_name = 'embedding'\n",
    "embed.metadata_path = 'metadata.tsv'"
   ]
  },
  {
   "cell_type": "code",
   "execution_count": 19,
   "metadata": {},
   "outputs": [
    {
     "data": {
      "text/plain": [
       "'tensorboard/model.ckpt-788791'"
      ]
     },
     "execution_count": 19,
     "metadata": {},
     "output_type": "execute_result"
    }
   ],
   "source": [
    "# Specify the width and height of a single thumbnail.\n",
    "projector.visualize_embeddings(writer, config)\n",
    "\n",
    "saver.save(sess, path+'/model.ckpt', global_step=max_size)"
   ]
  },
  {
   "cell_type": "code",
   "execution_count": null,
   "metadata": {},
   "outputs": [],
   "source": []
  }
 ],
 "metadata": {
  "kernelspec": {
   "display_name": "Python 3",
   "language": "python",
   "name": "python3"
  },
  "language_info": {
   "codemirror_mode": {
    "name": "ipython",
    "version": 3
   },
   "file_extension": ".py",
   "mimetype": "text/x-python",
   "name": "python",
   "nbconvert_exporter": "python",
   "pygments_lexer": "ipython3",
   "version": "3.6.5"
  }
 },
 "nbformat": 4,
 "nbformat_minor": 2
}
