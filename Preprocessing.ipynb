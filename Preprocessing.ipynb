{
 "cells": [
  {
   "cell_type": "code",
   "execution_count": null,
   "metadata": {},
   "outputs": [],
   "source": [
    "#Importing the required libraries:\n",
    "import nltk, io, os\n",
    "from nltk.tokenize import word_tokenize\n",
    "from nltk.corpus import stopwords\n",
    "import string as str\n",
    "import warnings\n",
    "\n",
    "#Ignore the warnings\n",
    "warnings.filterwarnings('ignore')"
   ]
  },
  {
   "cell_type": "code",
   "execution_count": null,
   "metadata": {},
   "outputs": [],
   "source": [
    "#setting the path to the input files:\n",
    "path = 'D:/FYP_Data/Exp_Files/New_Data/'"
   ]
  },
  {
   "cell_type": "code",
   "execution_count": null,
   "metadata": {},
   "outputs": [],
   "source": [
    "#Initialising an empty list to store the input for the word2vec model:\n",
    "input = []\n",
    "#Initialising a variable for keeping track of progress\n",
    "count = 0"
   ]
  },
  {
   "cell_type": "code",
   "execution_count": null,
   "metadata": {},
   "outputs": [],
   "source": [
    "#Processing the files:\n",
    "for root, directories, files in os.walk(path):\n",
    "    for filename in files:\n",
    "        \n",
    "            filepath = os.path.join(root, filename)\n",
    "            \n",
    "            f = open(filepath,\"r\",encoding=\"ascii\", errors=\"ignore\")\n",
    "            \n",
    "            #reading in the content of the file:\n",
    "            content = f.read()\n",
    "            \n",
    "            #converting the text into lower case:\n",
    "            content = content.lower()\n",
    "            \n",
    "            #splitting the text into tokens:\n",
    "            tokens = word_tokenize(content)\n",
    "            \n",
    "            #removing the punctuations, numbers and special chars:\n",
    "            tokens = [word for word in tokens if word.isalpha()]\n",
    "            \n",
    "            #removing the stopwords\n",
    "            stopwords_nltk_en = set(stopwords.words('english'))\n",
    "            tokens = [word for word in tokens if word not in stopwords_nltk_en]\n",
    "            \n",
    "            #generating the input:\n",
    "            input.append(tokens)\n",
    "            count=count+1\n",
    "            print(\"Complete\",count)"
   ]
  },
  {
   "cell_type": "code",
   "execution_count": null,
   "metadata": {},
   "outputs": [],
   "source": [
    "from gensim.models import Word2Vec\n",
    "model = Word2Vec(input, size=100, window = 10, min_count=1)"
   ]
  },
  {
   "cell_type": "code",
   "execution_count": null,
   "metadata": {},
   "outputs": [],
   "source": [
    "#saving the model:\n",
    "model.save(\"bias\")"
   ]
  }
 ],
 "metadata": {
  "kernelspec": {
   "display_name": "Python 3",
   "language": "python",
   "name": "python3"
  },
  "language_info": {
   "codemirror_mode": {
    "name": "ipython",
    "version": 3
   },
   "file_extension": ".py",
   "mimetype": "text/x-python",
   "name": "python",
   "nbconvert_exporter": "python",
   "pygments_lexer": "ipython3",
   "version": "3.6.5"
  }
 },
 "nbformat": 4,
 "nbformat_minor": 2
}
