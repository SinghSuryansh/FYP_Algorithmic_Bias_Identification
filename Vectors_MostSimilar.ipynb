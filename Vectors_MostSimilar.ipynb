{
 "cells": [
  {
   "cell_type": "markdown",
   "metadata": {},
   "source": [
    "### Findings Vectors Most Similar to the terms in our Seed List"
   ]
  },
  {
   "cell_type": "code",
   "execution_count": 2,
   "metadata": {},
   "outputs": [],
   "source": [
    "#importing the required libraries:\n",
    "from gensim.models import Word2Vec\n",
    "import warnings\n",
    "warnings.filterwarnings('ignore')"
   ]
  },
  {
   "cell_type": "code",
   "execution_count": 3,
   "metadata": {},
   "outputs": [],
   "source": [
    "#Loading in the model:\n",
    "model = Word2Vec.load(\"C:/Users/Suryansh/Desktop/ucd/Stage4/FYP/Model_Storage/word2vec.model\")"
   ]
  },
  {
   "cell_type": "code",
   "execution_count": 4,
   "metadata": {},
   "outputs": [],
   "source": [
    "#Extracting the vectors:\n",
    "vectors = model.wv"
   ]
  },
  {
   "cell_type": "markdown",
   "metadata": {},
   "source": [
    "### Finding Most_Similar Vectors:"
   ]
  },
  {
   "cell_type": "markdown",
   "metadata": {},
   "source": [
    "#### Vectors Most Similar to words used to refer to african people"
   ]
  },
  {
   "cell_type": "code",
   "execution_count": 40,
   "metadata": {},
   "outputs": [
    {
     "data": {
      "text/plain": [
       "[('whites', 0.7999852895736694),\n",
       " ('mulattoes', 0.797088623046875),\n",
       " ('creoles', 0.7868020534515381),\n",
       " ('mulattos', 0.7295410633087158),\n",
       " ('slavery', 0.7260438203811646),\n",
       " ('aboriginal', 0.7189874649047852),\n",
       " ('castes', 0.7154296636581421),\n",
       " ('peans', 0.7089937925338745),\n",
       " ('inhabiting', 0.70885169506073),\n",
       " ('lians', 0.7049156427383423)]"
      ]
     },
     "execution_count": 40,
     "metadata": {},
     "output_type": "execute_result"
    }
   ],
   "source": [
    "vectors.most_similar('africans')"
   ]
  },
  {
   "cell_type": "code",
   "execution_count": 41,
   "metadata": {},
   "outputs": [
    {
     "data": {
      "text/plain": [
       "[('africa', 0.7329984903335571),\n",
       " ('aborigines', 0.7188575267791748),\n",
       " ('malayan', 0.715053141117096),\n",
       " ('malay', 0.7033933997154236),\n",
       " ('polynesian', 0.6843975782394409),\n",
       " ('aboriginal', 0.6799272298812866),\n",
       " ('africans', 0.6726621985435486),\n",
       " ('bushmen', 0.6357688307762146),\n",
       " ('asiatic', 0.6349324584007263),\n",
       " ('celebes', 0.6340907216072083)]"
      ]
     },
     "execution_count": 41,
     "metadata": {},
     "output_type": "execute_result"
    }
   ],
   "source": [
    "vectors.most_similar('african')"
   ]
  },
  {
   "cell_type": "code",
   "execution_count": 42,
   "metadata": {},
   "outputs": [
    {
     "data": {
      "text/plain": [
       "[('negroes', 0.9053716659545898),\n",
       " ('whites', 0.8473217487335205),\n",
       " ('natives', 0.7676130533218384),\n",
       " ('negro', 0.7612650990486145),\n",
       " ('indians', 0.7370302081108093),\n",
       " ('slaves', 0.7348927855491638),\n",
       " ('traders', 0.7186115980148315),\n",
       " ('creoles', 0.7116155624389648),\n",
       " ('savages', 0.7099044322967529),\n",
       " ('europeans', 0.683749258518219)]"
      ]
     },
     "execution_count": 42,
     "metadata": {},
     "output_type": "execute_result"
    }
   ],
   "source": [
    "vectors.most_similar('blacks')"
   ]
  },
  {
   "cell_type": "code",
   "execution_count": 43,
   "metadata": {},
   "outputs": [
    {
     "data": {
      "text/plain": [
       "[('blacks', 0.7676129937171936),\n",
       " ('indians', 0.739894688129425),\n",
       " ('islanders', 0.7149608135223389),\n",
       " ('savages', 0.7148339748382568),\n",
       " ('negroes', 0.709423303604126),\n",
       " ('europeans', 0.7027053236961365),\n",
       " ('malays', 0.6893696784973145),\n",
       " ('aborigines', 0.6644129753112793),\n",
       " ('dyaks', 0.6639217138290405),\n",
       " ('native', 0.6396939754486084)]"
      ]
     },
     "execution_count": 43,
     "metadata": {},
     "output_type": "execute_result"
    }
   ],
   "source": [
    "vectors.most_similar('natives')"
   ]
  },
  {
   "cell_type": "code",
   "execution_count": 44,
   "metadata": {},
   "outputs": [
    {
     "data": {
      "text/plain": [
       "[('tamasirht', 0.6903102993965149),\n",
       " ('setter', 0.6814639568328857),\n",
       " ('multiplyed', 0.6769735813140869),\n",
       " ('cerillo', 0.6693027019500732),\n",
       " ('dryan', 0.6676689386367798),\n",
       " ('naryschkine', 0.6637616753578186),\n",
       " ('puellæ', 0.6634316444396973),\n",
       " ('dividualized', 0.6629607677459717),\n",
       " ('woonne', 0.6625710725784302),\n",
       " ('spanheim', 0.6604546308517456)]"
      ]
     },
     "execution_count": 44,
     "metadata": {},
     "output_type": "execute_result"
    }
   ],
   "source": [
    "vectors.most_similar('locals')"
   ]
  },
  {
   "cell_type": "code",
   "execution_count": 54,
   "metadata": {},
   "outputs": [
    {
     "data": {
      "text/plain": [
       "[('negroes', 0.8151286840438843),\n",
       " ('slave', 0.7915410399436951),\n",
       " ('whites', 0.7641069889068604),\n",
       " ('blacks', 0.7348927855491638),\n",
       " ('negro', 0.6965595483779907),\n",
       " ('slavery', 0.6814161539077759),\n",
       " ('africans', 0.6748390197753906),\n",
       " ('creoles', 0.6653378009796143),\n",
       " ('traders', 0.6565498113632202),\n",
       " ('planters', 0.6457130908966064)]"
      ]
     },
     "execution_count": 54,
     "metadata": {},
     "output_type": "execute_result"
    }
   ],
   "source": [
    "vectors.most_similar('slaves')"
   ]
  },
  {
   "cell_type": "code",
   "execution_count": 55,
   "metadata": {},
   "outputs": [
    {
     "data": {
      "text/plain": [
       "[('slaves', 0.7915409803390503),\n",
       " ('negro', 0.7524628639221191),\n",
       " ('slavery', 0.6978515982627869),\n",
       " ('mulatto', 0.6198184490203857),\n",
       " ('haffckee', 0.6142288446426392),\n",
       " ('bondsmen', 0.6050638556480408),\n",
       " ('negroes', 0.6039642691612244),\n",
       " ('servitude', 0.5954142808914185),\n",
       " ('employer', 0.5850092172622681),\n",
       " ('whites', 0.5812892913818359)]"
      ]
     },
     "execution_count": 55,
     "metadata": {},
     "output_type": "execute_result"
    }
   ],
   "source": [
    "vectors.most_similar('slave')"
   ]
  },
  {
   "cell_type": "code",
   "execution_count": 58,
   "metadata": {},
   "outputs": [
    {
     "data": {
      "text/plain": [
       "[('aborigines', 0.8670752048492432),\n",
       " ('inhabiting', 0.7785977721214294),\n",
       " ('nomadic', 0.7364462614059448),\n",
       " ('inhabit', 0.7298949956893921),\n",
       " ('africans', 0.7189874053001404),\n",
       " ('tribes', 0.7129586338996887),\n",
       " ('hottentots', 0.7124993801116943),\n",
       " ('mexican', 0.7060219645500183),\n",
       " ('creoles', 0.7039958834648132),\n",
       " ('migrated', 0.7037521600723267)]"
      ]
     },
     "execution_count": 58,
     "metadata": {},
     "output_type": "execute_result"
    }
   ],
   "source": [
    "vectors.most_similar('aboriginal')"
   ]
  },
  {
   "cell_type": "code",
   "execution_count": 59,
   "metadata": {},
   "outputs": [
    {
     "data": {
      "text/plain": [
       "[('mulattoes', 0.857742190361023),\n",
       " ('mulattos', 0.7987678647041321),\n",
       " ('whites', 0.7982743382453918),\n",
       " ('mestizos', 0.7884707450866699),\n",
       " ('africans', 0.7868020534515381),\n",
       " ('peans', 0.7640191912651062),\n",
       " ('artizans', 0.7608680725097656),\n",
       " ('hottentots', 0.73804771900177),\n",
       " ('brazilians', 0.7360316514968872),\n",
       " ('mestizoes', 0.7356374263763428)]"
      ]
     },
     "execution_count": 59,
     "metadata": {},
     "output_type": "execute_result"
    }
   ],
   "source": [
    "vectors.most_similar('creoles')"
   ]
  },
  {
   "cell_type": "code",
   "execution_count": 60,
   "metadata": {},
   "outputs": [
    {
     "data": {
      "text/plain": [
       "[('aroras', 0.8363890051841736),\n",
       " ('tunies', 0.7098787426948547),\n",
       " ('boorded', 0.688223659992218),\n",
       " ('troweth', 0.6865116953849792),\n",
       " ('quigaute', 0.6839401125907898),\n",
       " ('dexteritie', 0.672356128692627),\n",
       " ('discried', 0.6622720956802368),\n",
       " ('carauel', 0.6403899788856506),\n",
       " ('selse', 0.6372873783111572),\n",
       " ('roxo', 0.6342569589614868)]"
      ]
     },
     "execution_count": 60,
     "metadata": {},
     "output_type": "execute_result"
    }
   ],
   "source": [
    "vectors.most_similar('blackpeople')"
   ]
  },
  {
   "cell_type": "markdown",
   "metadata": {},
   "source": [
    "#### Vectors most similar to racial slurs used for african people"
   ]
  },
  {
   "cell_type": "code",
   "execution_count": 45,
   "metadata": {},
   "outputs": [
    {
     "data": {
      "text/plain": [
       "[('blacks', 0.9053716659545898),\n",
       " ('whites', 0.8303654193878174),\n",
       " ('slaves', 0.8151286840438843),\n",
       " ('negro', 0.7794855237007141),\n",
       " ('creoles', 0.7281623482704163),\n",
       " ('planters', 0.7102085947990417),\n",
       " ('natives', 0.709423303604126),\n",
       " ('europeans', 0.70186448097229),\n",
       " ('traders', 0.6943878531455994),\n",
       " ('malays', 0.6837278008460999)]"
      ]
     },
     "execution_count": 45,
     "metadata": {},
     "output_type": "execute_result"
    }
   ],
   "source": [
    "vectors.most_similar('negroes')"
   ]
  },
  {
   "cell_type": "code",
   "execution_count": 46,
   "metadata": {},
   "outputs": [
    {
     "data": {
      "text/plain": [
       "[('negroes', 0.7794856429100037),\n",
       " ('blacks', 0.7612651586532593),\n",
       " ('slave', 0.7524629235267639),\n",
       " ('mulatto', 0.7159563899040222),\n",
       " ('slaves', 0.6965595483779907),\n",
       " ('hottentot', 0.6855295896530151),\n",
       " ('pottawattomie', 0.6760038137435913),\n",
       " ('whites', 0.6567317247390747),\n",
       " ('indian', 0.6334149837493896),\n",
       " ('creole', 0.6222161054611206)]"
      ]
     },
     "execution_count": 46,
     "metadata": {},
     "output_type": "execute_result"
    }
   ],
   "source": [
    "vectors.most_similar('negro')"
   ]
  },
  {
   "cell_type": "code",
   "execution_count": 47,
   "metadata": {},
   "outputs": [
    {
     "data": {
      "text/plain": [
       "[('judy', 0.8155564069747925),\n",
       " ('jolly', 0.8017573952674866),\n",
       " ('sambo', 0.7872992157936096),\n",
       " ('quacked', 0.7797083258628845),\n",
       " ('rascal', 0.7727861404418945),\n",
       " ('pedlar', 0.7658215761184692),\n",
       " ('jackass', 0.7656034231185913),\n",
       " ('jim', 0.7607474327087402),\n",
       " ('yarns', 0.752193033695221),\n",
       " ('cackled', 0.7497960925102234)]"
      ]
     },
     "execution_count": 47,
     "metadata": {},
     "output_type": "execute_result"
    }
   ],
   "source": [
    "vectors.most_similar('nigger')"
   ]
  },
  {
   "cell_type": "code",
   "execution_count": 50,
   "metadata": {},
   "outputs": [
    {
     "data": {
      "text/plain": [
       "[('lancer', 0.7961419820785522),\n",
       " ('reim', 0.7868105173110962),\n",
       " ('kraal', 0.7807708978652954),\n",
       " ('mongrel', 0.7753807902336121),\n",
       " ('cougar', 0.7738785743713379),\n",
       " ('rattlesnakes', 0.7715116739273071),\n",
       " ('armadillo', 0.770409107208252),\n",
       " ('tigress', 0.7685017585754395),\n",
       " ('dindes', 0.7652565240859985),\n",
       " ('lynxes', 0.7626311779022217)]"
      ]
     },
     "execution_count": 50,
     "metadata": {},
     "output_type": "execute_result"
    }
   ],
   "source": [
    "vectors.most_similar('kaffir')"
   ]
  },
  {
   "cell_type": "code",
   "execution_count": 51,
   "metadata": {},
   "outputs": [
    {
     "data": {
      "text/plain": [
       "[('foreign', 0.4461161494255066),\n",
       " ('csnversation', 0.4220045804977417),\n",
       " ('jiagellaris', 0.4197525084018707),\n",
       " ('agrant', 0.41914066672325134),\n",
       " ('proottiou', 0.41883939504623413),\n",
       " ('qlcikoi', 0.4161900281906128),\n",
       " ('twoat', 0.41572263836860657),\n",
       " ('slumberous', 0.41349077224731445),\n",
       " ('oligostachyum', 0.413106232881546),\n",
       " ('gitoarb', 0.408042848110199)]"
      ]
     },
     "execution_count": 51,
     "metadata": {},
     "output_type": "execute_result"
    }
   ],
   "source": [
    "vectors.most_similar('kaffer')"
   ]
  },
  {
   "cell_type": "code",
   "execution_count": 52,
   "metadata": {},
   "outputs": [
    {
     "data": {
      "text/plain": [
       "[('moose', 0.6498841047286987),\n",
       " ('burrows', 0.6338618993759155),\n",
       " ('mealy', 0.6336485147476196),\n",
       " ('maguey', 0.6310510039329529),\n",
       " ('nourishing', 0.6302347183227539),\n",
       " ('buffaloe', 0.6285949945449829),\n",
       " ('skinning', 0.6247018575668335),\n",
       " ('turkies', 0.623249888420105),\n",
       " ('garoo', 0.6230330467224121),\n",
       " ('thistles', 0.6226705312728882)]"
      ]
     },
     "execution_count": 52,
     "metadata": {},
     "output_type": "execute_result"
    }
   ],
   "source": [
    "vectors.most_similar('kaffre')"
   ]
  },
  {
   "cell_type": "code",
   "execution_count": 53,
   "metadata": {},
   "outputs": [
    {
     "data": {
      "text/plain": [
       "[('anasir', 0.4742867052555084),\n",
       " ('exceptinn', 0.45232513546943665),\n",
       " ('autou', 0.43596458435058594),\n",
       " ('eghkathnzoponemaytslkaitnraykytarnmoy', 0.4341847896575928),\n",
       " ('jutecrov', 0.43286824226379395),\n",
       " ('denkhi', 0.41844436526298523),\n",
       " ('pipings', 0.4170396625995636),\n",
       " ('rilles', 0.41566863656044006),\n",
       " ('dahlak', 0.41533976793289185),\n",
       " ('augit', 0.41511452198028564)]"
      ]
     },
     "execution_count": 53,
     "metadata": {},
     "output_type": "execute_result"
    }
   ],
   "source": [
    "vectors.most_similar('munt')"
   ]
  },
  {
   "cell_type": "code",
   "execution_count": 56,
   "metadata": {},
   "outputs": [
    {
     "data": {
      "text/plain": [
       "[('mestizoes', 0.8586380481719971),\n",
       " ('creoles', 0.857742190361023),\n",
       " ('mulattos', 0.8468561768531799),\n",
       " ('mestizos', 0.8352713584899902),\n",
       " ('zambos', 0.8307933211326599),\n",
       " ('africans', 0.797088623046875),\n",
       " ('xegroes', 0.7812634110450745),\n",
       " ('peans', 0.7801023721694946),\n",
       " ('fustie', 0.7742376327514648),\n",
       " ('chinos', 0.7654005289077759)]"
      ]
     },
     "execution_count": 56,
     "metadata": {},
     "output_type": "execute_result"
    }
   ],
   "source": [
    "vectors.most_similar('mulattoes')"
   ]
  },
  {
   "cell_type": "code",
   "execution_count": 57,
   "metadata": {},
   "outputs": [
    {
     "data": {
      "text/plain": [
       "[('blackpeople', 0.6227513551712036),\n",
       " ('falles', 0.613341212272644),\n",
       " ('discried', 0.6024720668792725),\n",
       " ('shortnesse', 0.5981594324111938),\n",
       " ('yce', 0.5970032215118408),\n",
       " ('halepo', 0.592871904373169),\n",
       " ('miuutes', 0.5873559713363647),\n",
       " ('tunies', 0.5846821069717407),\n",
       " ('biskaynes', 0.5841704607009888),\n",
       " ('bedde', 0.5788088440895081)]"
      ]
     },
     "execution_count": 57,
     "metadata": {},
     "output_type": "execute_result"
    }
   ],
   "source": [
    "vectors.most_similar('mullato')"
   ]
  },
  {
   "cell_type": "markdown",
   "metadata": {},
   "source": [
    "#### Vectors most similar to geogriphical words used to refer to africans"
   ]
  },
  {
   "cell_type": "code",
   "execution_count": 62,
   "metadata": {},
   "outputs": [
    {
     "data": {
      "text/plain": [
       "[('caucasian', 0.8058497905731201),\n",
       " ('mesopotamia', 0.7776515483856201),\n",
       " ('marocco', 0.7742024660110474),\n",
       " ('finmark', 0.7725092172622681),\n",
       " ('enikale', 0.7711511850357056),\n",
       " ('anam', 0.7695440053939819),\n",
       " ('haemus', 0.7694587111473083),\n",
       " ('angora', 0.7677261829376221),\n",
       " ('turkestan', 0.7666363716125488),\n",
       " ('ionanina', 0.7624959945678711)]"
      ]
     },
     "execution_count": 62,
     "metadata": {},
     "output_type": "execute_result"
    }
   ],
   "source": [
    "vectors.most_similar('algerian')"
   ]
  },
  {
   "cell_type": "code",
   "execution_count": 63,
   "metadata": {},
   "outputs": [
    {
     "data": {
      "text/plain": [
       "[('gili', 0.4423958659172058),\n",
       " ('deneve', 0.440562903881073),\n",
       " ('citated', 0.4344213604927063),\n",
       " ('venetiis', 0.42745596170425415),\n",
       " ('toree', 0.41834139823913574),\n",
       " ('raratuna', 0.4092980921268463),\n",
       " ('mcadamised', 0.4088857173919678),\n",
       " ('butby', 0.40662068128585815),\n",
       " ('fartagh', 0.40121322870254517),\n",
       " ('drelingston', 0.399381160736084)]"
      ]
     },
     "execution_count": 63,
     "metadata": {},
     "output_type": "execute_result"
    }
   ],
   "source": [
    "vectors.most_similar('angolan')"
   ]
  },
  {
   "cell_type": "code",
   "execution_count": 70,
   "metadata": {},
   "outputs": [
    {
     "data": {
      "text/plain": [
       "[('egyptians', 0.7351685166358948),\n",
       " ('greek', 0.7327299118041992),\n",
       " ('hindoo', 0.7247426509857178),\n",
       " ('sphinx', 0.7147217988967896),\n",
       " ('cleopatra', 0.7046444416046143),\n",
       " ('turkish', 0.7044697999954224),\n",
       " ('thebes', 0.6975427865982056),\n",
       " ('mummy', 0.6950799226760864),\n",
       " ('pyramids', 0.6949684619903564),\n",
       " ('mummies', 0.6887975931167603)]"
      ]
     },
     "execution_count": 70,
     "metadata": {},
     "output_type": "execute_result"
    }
   ],
   "source": [
    "vectors.most_similar('egyptian')"
   ]
  },
  {
   "cell_type": "code",
   "execution_count": 72,
   "metadata": {},
   "outputs": [
    {
     "data": {
      "text/plain": [
       "[('malagasy', 0.7538539171218872),\n",
       " ('hebrews', 0.7221716642379761),\n",
       " ('sanskrit', 0.7182002067565918),\n",
       " ('azteck', 0.7154132127761841),\n",
       " ('khorremabad', 0.7153164148330688),\n",
       " ('mytilene', 0.7143431901931763),\n",
       " ('pharsalus', 0.7071424126625061),\n",
       " ('tuareg', 0.7061018943786621),\n",
       " ('xenophon', 0.7042838335037231),\n",
       " ('homeric', 0.7036495804786682)]"
      ]
     },
     "execution_count": 72,
     "metadata": {},
     "output_type": "execute_result"
    }
   ],
   "source": [
    "vectors.most_similar('ethiopian')"
   ]
  },
  {
   "cell_type": "code",
   "execution_count": 74,
   "metadata": {},
   "outputs": [
    {
     "data": {
      "text/plain": [
       "[('tjadsby', 0.45419207215309143),\n",
       " ('blie', 0.4390772581100464),\n",
       " ('altb', 0.433044970035553),\n",
       " ('ahadi', 0.42306438088417053),\n",
       " ('sejitember', 0.4228785037994385),\n",
       " ('pavillac', 0.42210134863853455),\n",
       " ('marienkirehe', 0.4197791814804077),\n",
       " ('serpentiziug', 0.4190538823604584),\n",
       " ('gyht', 0.40824562311172485),\n",
       " ('excitandam', 0.4007434844970703)]"
      ]
     },
     "execution_count": 74,
     "metadata": {},
     "output_type": "execute_result"
    }
   ],
   "source": [
    "vectors.most_similar('gambian')"
   ]
  },
  {
   "cell_type": "code",
   "execution_count": 77,
   "metadata": {},
   "outputs": [
    {
     "data": {
      "text/plain": [
       "[('gereutem', 0.4381261467933655),\n",
       " ('napoldon', 0.42520806193351746),\n",
       " ('itjuented', 0.4176492989063263),\n",
       " ('miquelets', 0.41565632820129395),\n",
       " ('tonahs', 0.41026145219802856),\n",
       " ('laagan', 0.4100431501865387),\n",
       " ('rerousej', 0.40950605273246765),\n",
       " ('vdea', 0.40884435176849365),\n",
       " ('ufho', 0.40261387825012207),\n",
       " ('rotace', 0.4000244736671448)]"
      ]
     },
     "execution_count": 77,
     "metadata": {},
     "output_type": "execute_result"
    }
   ],
   "source": [
    "vectors.most_similar('guinean')"
   ]
  },
  {
   "cell_type": "code",
   "execution_count": 78,
   "metadata": {},
   "outputs": [
    {
     "data": {
      "text/plain": [
       "[('gaza', 0.8217768669128418),\n",
       " ('goshen', 0.7955477833747864),\n",
       " ('ghurundel', 0.7874137759208679),\n",
       " ('tuggurt', 0.7860312461853027),\n",
       " ('beersheba', 0.7821092009544373),\n",
       " ('elburz', 0.7794405221939087),\n",
       " ('rufaee', 0.777087926864624),\n",
       " ('mokattam', 0.774350643157959),\n",
       " ('murgab', 0.7735518217086792),\n",
       " ('pontica', 0.7726279497146606)]"
      ]
     },
     "execution_count": 78,
     "metadata": {},
     "output_type": "execute_result"
    }
   ],
   "source": [
    "vectors.most_similar('libyan')"
   ]
  },
  {
   "cell_type": "code",
   "execution_count": 82,
   "metadata": {},
   "outputs": [
    {
     "data": {
      "text/plain": [
       "[('noweis', 0.49624207615852356),\n",
       " ('lvn', 0.4486841857433319),\n",
       " ('taikoun', 0.44543614983558655),\n",
       " ('iusticia', 0.44485384225845337),\n",
       " ('lopper', 0.4427497088909149),\n",
       " ('mentinie', 0.4295680522918701),\n",
       " ('aathereupon', 0.42862075567245483),\n",
       " ('tidiously', 0.42432701587677),\n",
       " ('antarticke', 0.4207229018211365),\n",
       " ('pomptinœ', 0.4166715443134308)]"
      ]
     },
     "execution_count": 82,
     "metadata": {},
     "output_type": "execute_result"
    }
   ],
   "source": [
    "vectors.most_similar('madagascan')"
   ]
  },
  {
   "cell_type": "code",
   "execution_count": 86,
   "metadata": {},
   "outputs": [
    {
     "data": {
      "text/plain": [
       "[('portola', 0.6251989006996155),\n",
       " ('philippines', 0.6136854290962219),\n",
       " ('jago', 0.6130068898200989),\n",
       " ('valparaiso', 0.6125046014785767),\n",
       " ('nikolaef', 0.6001538038253784),\n",
       " ('palma', 0.5984099507331848),\n",
       " ('costa', 0.5896934866905212),\n",
       " ('mendoca', 0.5848968625068665),\n",
       " ('nikolaas', 0.583836555480957),\n",
       " ('chili', 0.5776076316833496)]"
      ]
     },
     "execution_count": 86,
     "metadata": {},
     "output_type": "execute_result"
    }
   ],
   "source": [
    "vectors.most_similar('mauritian')"
   ]
  },
  {
   "cell_type": "code",
   "execution_count": 87,
   "metadata": {},
   "outputs": [
    {
     "data": {
      "text/plain": [
       "[('zeladores', 0.5730611085891724),\n",
       " ('smilesof', 0.5125467777252197),\n",
       " ('partenicot', 0.5081889629364014),\n",
       " ('daloety', 0.49862349033355713),\n",
       " ('wnat', 0.4965505599975586),\n",
       " ('zabis', 0.48902183771133423),\n",
       " ('sagaing', 0.4889950752258301),\n",
       " ('estuar', 0.48548147082328796),\n",
       " ('watchtowers', 0.48445460200309753),\n",
       " ('woodward', 0.48355990648269653)]"
      ]
     },
     "execution_count": 87,
     "metadata": {},
     "output_type": "execute_result"
    }
   ],
   "source": [
    "vectors.most_similar('moroccan')"
   ]
  },
  {
   "cell_type": "code",
   "execution_count": 93,
   "metadata": {},
   "outputs": [
    {
     "data": {
      "text/plain": [
       "[('chinghiz', 0.5801953077316284),\n",
       " ('rediscovered', 0.5496924519538879),\n",
       " ('boccaccian', 0.5463268756866455),\n",
       " ('moguls', 0.5323714017868042),\n",
       " ('gafsa', 0.5312159061431885),\n",
       " ('aprd', 0.5268745422363281),\n",
       " ('kidana', 0.5198941230773926),\n",
       " ('archonship', 0.5184256434440613),\n",
       " ('ruric', 0.5180203914642334),\n",
       " ('ayasoluk', 0.5178681015968323)]"
      ]
     },
     "execution_count": 93,
     "metadata": {},
     "output_type": "execute_result"
    }
   ],
   "source": [
    "vectors.most_similar('sudanese')"
   ]
  },
  {
   "cell_type": "code",
   "execution_count": 94,
   "metadata": {},
   "outputs": [
    {
     "data": {
      "text/plain": [
       "[('raij', 0.45398175716400146),\n",
       " ('cazanova', 0.438732385635376),\n",
       " ('souppara', 0.4231046140193939),\n",
       " ('mcnomenec', 0.4226473569869995),\n",
       " ('maisar', 0.4205924868583679),\n",
       " ('coninanded', 0.4184498190879822),\n",
       " ('jordartne', 0.41643744707107544),\n",
       " ('schebuas', 0.4151846170425415),\n",
       " ('bospvrian', 0.40550780296325684),\n",
       " ('rined', 0.40530312061309814)]"
      ]
     },
     "execution_count": 94,
     "metadata": {},
     "output_type": "execute_result"
    }
   ],
   "source": [
    "vectors.most_similar('swazi')"
   ]
  },
  {
   "cell_type": "code",
   "execution_count": 96,
   "metadata": {},
   "outputs": [
    {
     "data": {
      "text/plain": [
       "[('sebartotte', 0.8523668646812439),\n",
       " ('yuraki', 0.851563572883606),\n",
       " ('udkel', 0.8336232304573059),\n",
       " ('veren', 0.8304149508476257),\n",
       " ('riveb', 0.8280097246170044),\n",
       " ('desbroyed', 0.8276315927505493),\n",
       " ('mutafili', 0.826077938079834),\n",
       " ('burger', 0.8236618041992188),\n",
       " ('bopages', 0.8222559094429016),\n",
       " ('rashid', 0.8219272494316101)]"
      ]
     },
     "execution_count": 96,
     "metadata": {},
     "output_type": "execute_result"
    }
   ],
   "source": [
    "vectors.most_similar('tunisian')"
   ]
  },
  {
   "cell_type": "code",
   "execution_count": null,
   "metadata": {},
   "outputs": [],
   "source": []
  }
 ],
 "metadata": {
  "kernelspec": {
   "display_name": "Python 3",
   "language": "python",
   "name": "python3"
  },
  "language_info": {
   "codemirror_mode": {
    "name": "ipython",
    "version": 3
   },
   "file_extension": ".py",
   "mimetype": "text/x-python",
   "name": "python",
   "nbconvert_exporter": "python",
   "pygments_lexer": "ipython3",
   "version": "3.6.5"
  }
 },
 "nbformat": 4,
 "nbformat_minor": 2
}
