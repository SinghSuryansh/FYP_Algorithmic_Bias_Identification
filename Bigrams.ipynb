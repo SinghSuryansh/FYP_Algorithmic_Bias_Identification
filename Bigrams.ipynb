{
 "cells": [
  {
   "cell_type": "code",
   "execution_count": 1,
   "metadata": {},
   "outputs": [],
   "source": [
    "#importing the required libraries:\n",
    "import nltk, io, os\n",
    "import warnings\n",
    "warnings.filterwarnings('ignore')\n",
    "from nltk import ngrams\n",
    "from nltk.tokenize import word_tokenize"
   ]
  },
  {
   "cell_type": "code",
   "execution_count": 2,
   "metadata": {},
   "outputs": [],
   "source": [
    "f = open(\"D:/FYP_Data/tokens.txt\",\"r\")\n",
    "content = f.readlines()"
   ]
  },
  {
   "cell_type": "code",
   "execution_count": 3,
   "metadata": {},
   "outputs": [],
   "source": [
    "content = [x.strip() for x in content]"
   ]
  },
  {
   "cell_type": "code",
   "execution_count": 4,
   "metadata": {},
   "outputs": [],
   "source": [
    "from nltk.collocations import *"
   ]
  },
  {
   "cell_type": "code",
   "execution_count": 5,
   "metadata": {},
   "outputs": [],
   "source": [
    "finder = BigramCollocationFinder.from_words(content)"
   ]
  },
  {
   "cell_type": "code",
   "execution_count": 6,
   "metadata": {},
   "outputs": [],
   "source": [
    "word_filter = lambda w1, w2: \"africans\" not in (w1, w2)\n",
    "finder.apply_ngram_filter(word_filter)"
   ]
  },
  {
   "cell_type": "code",
   "execution_count": 9,
   "metadata": {},
   "outputs": [],
   "source": [
    "bigram_measures = nltk.collocations.BigramAssocMeasures()\n",
    "raw_freq_ranking = finder.nbest(bigram_measures.raw_freq, 50)"
   ]
  },
  {
   "cell_type": "code",
   "execution_count": 10,
   "metadata": {},
   "outputs": [
    {
     "data": {
      "text/plain": [
       "[('liberated', 'africans'),\n",
       " ('native', 'africans'),\n",
       " ('africans', 'taken'),\n",
       " ('among', 'africans'),\n",
       " ('africans', 'may'),\n",
       " ('enslaved', 'africans'),\n",
       " ('number', 'africans'),\n",
       " ('race', 'africans'),\n",
       " ('africans', 'indians'),\n",
       " ('africans', 'one'),\n",
       " ('black', 'africans'),\n",
       " ('europeans', 'africans'),\n",
       " ('indians', 'africans'),\n",
       " ('like', 'africans'),\n",
       " ('poor', 'africans'),\n",
       " ('africans', 'called'),\n",
       " ('africans', 'creoles'),\n",
       " ('africans', 'disbanded'),\n",
       " ('africans', 'europeans'),\n",
       " ('arabs', 'africans'),\n",
       " ('negroes', 'africans'),\n",
       " ('west', 'africans'),\n",
       " ('africans', 'could'),\n",
       " ('africans', 'extremely'),\n",
       " ('africans', 'first'),\n",
       " ('africans', 'met'),\n",
       " ('africans', 'province'),\n",
       " ('africans', 'seem'),\n",
       " ('africans', 'west'),\n",
       " ('africans', 'yet'),\n",
       " ('asiatics', 'africans'),\n",
       " ('central', 'africans'),\n",
       " ('imported', 'africans'),\n",
       " ('many', 'africans'),\n",
       " ('resemble', 'africans'),\n",
       " ('treatment', 'africans'),\n",
       " ('africans', 'also'),\n",
       " ('africans', 'although'),\n",
       " ('africans', 'always'),\n",
       " ('africans', 'arabs'),\n",
       " ('africans', 'course'),\n",
       " ('africans', 'even'),\n",
       " ('africans', 'formerly'),\n",
       " ('africans', 'immediate'),\n",
       " ('africans', 'imported'),\n",
       " ('africans', 'much'),\n",
       " ('africans', 'therefore'),\n",
       " ('africans', 'well'),\n",
       " ('bodies', 'africans'),\n",
       " ('character', 'africans')]"
      ]
     },
     "execution_count": 10,
     "metadata": {},
     "output_type": "execute_result"
    }
   ],
   "source": [
    "raw_freq_ranking"
   ]
  },
  {
   "cell_type": "code",
   "execution_count": null,
   "metadata": {},
   "outputs": [],
   "source": []
  }
 ],
 "metadata": {
  "kernelspec": {
   "display_name": "Python 3",
   "language": "python",
   "name": "python3"
  },
  "language_info": {
   "codemirror_mode": {
    "name": "ipython",
    "version": 3
   },
   "file_extension": ".py",
   "mimetype": "text/x-python",
   "name": "python",
   "nbconvert_exporter": "python",
   "pygments_lexer": "ipython3",
   "version": "3.6.5"
  }
 },
 "nbformat": 4,
 "nbformat_minor": 2
}
