{
 "cells": [
  {
   "cell_type": "code",
   "execution_count": 1,
   "metadata": {},
   "outputs": [],
   "source": [
    "#Importing the required files:\n",
    "import nltk, io, os\n",
    "from nltk.tokenize import word_tokenize\n",
    "from nltk.corpus import stopwords\n",
    "import string\n",
    "import warnings\n",
    "#Ignore the warnings\n",
    "warnings.filterwarnings('ignore')\n",
    "#importing the files for visualisations:\n",
    "import matplotlib.pyplot as plt\n",
    "from wordcloud import WordCloud"
   ]
  },
  {
   "cell_type": "code",
   "execution_count": 2,
   "metadata": {},
   "outputs": [],
   "source": [
    "#Setting the path to the input files:\n",
    "path = 'D:/FYP_Data/African_Lit/'\n",
    "count = 0"
   ]
  },
  {
   "cell_type": "code",
   "execution_count": null,
   "metadata": {},
   "outputs": [],
   "source": [
    "#Processing the files:\n",
    "for root, directories, files in os.walk(path):\n",
    "    for filename in files:\n",
    "        filepath = os.path.join(root, filename)\n",
    "\n",
    "        f = open(filepath,\"r\",encoding=\"latin1\")\n",
    "\n",
    "        #Reading the content of the file:\n",
    "        content = f.read()\n",
    "\n",
    "        #converting the content to lowercase:\n",
    "        content = content.lower()\n",
    "\n",
    "        #splitting the text into tokens:\n",
    "        tokens = word_tokenize(content)\n",
    "\n",
    "        #removing the punctuations, numbers and special chars:\n",
    "        tokens = [word for word in tokens if word.isalpha()]\n",
    "\n",
    "        #removing the stopwords:\n",
    "        stopwords_nltk_en = set(stopwords.words('english'))\n",
    "        tokens = [word for word in tokens if word not in stopwords_nltk_en]\n",
    "\n",
    "        #generating the wordcloud:\n",
    "        data = (\" \").join(tokens)\n",
    "        wordcloud = WordCloud(width = 1000, height = 500).generate(data)\n",
    "        #Plotting the wordcloud\n",
    "        plt.figure(figsize=(15,8))\n",
    "        plt.imshow(wordcloud)\n",
    "        plt.axis(\"off\")\n",
    "\n",
    "        count = count + 1\n",
    "        #Saving the wordcloud:\n",
    "        wordcloud.to_file('D:/FYP_Data/Visual/%d.png' % count)\n",
    "        print(count,' Completed')"
   ]
  },
  {
   "cell_type": "code",
   "execution_count": null,
   "metadata": {},
   "outputs": [],
   "source": []
  }
 ],
 "metadata": {
  "kernelspec": {
   "display_name": "Python 3",
   "language": "python",
   "name": "python3"
  },
  "language_info": {
   "codemirror_mode": {
    "name": "ipython",
    "version": 3
   },
   "file_extension": ".py",
   "mimetype": "text/x-python",
   "name": "python",
   "nbconvert_exporter": "python",
   "pygments_lexer": "ipython3",
   "version": "3.6.5"
  }
 },
 "nbformat": 4,
 "nbformat_minor": 2
}
