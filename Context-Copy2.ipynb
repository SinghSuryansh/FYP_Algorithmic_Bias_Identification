{
 "cells": [
  {
   "cell_type": "code",
   "execution_count": 1,
   "metadata": {},
   "outputs": [],
   "source": [
    "# Importing the required libraries:\n",
    "import warnings\n",
    "warnings.filterwarnings('ignore')\n",
    "import io, os\n",
    "import string as str\n",
    "from collections import OrderedDict"
   ]
  },
  {
   "cell_type": "code",
   "execution_count": 2,
   "metadata": {},
   "outputs": [],
   "source": [
    "#Setting the path to the input files:\n",
    "path = \"D:/FYP_Data/Exp_Files/New_Data\""
   ]
  },
  {
   "cell_type": "code",
   "execution_count": 3,
   "metadata": {},
   "outputs": [],
   "source": [
    "#initialising an empty list for saving the names of the files to explore:\n",
    "name = []"
   ]
  },
  {
   "cell_type": "code",
   "execution_count": 4,
   "metadata": {},
   "outputs": [],
   "source": [
    "#Finding the files that contain the desired terms:\n",
    "for root, directories, files in os.walk(path):\n",
    "    for filename in files:\n",
    "        \n",
    "            filepath = os.path.join(root, filename)\n",
    "            f = open(filepath, \"r\", encoding=\"ascii\", errors=\"ignore\")\n",
    "            #reading in the content of the file \n",
    "            content = f.read()\n",
    "            #converting the text into lower case for easy matching:\n",
    "            content = content.lower()\n",
    "            #finding files containing the two or more terms:\n",
    "            if 'negro slave' in content:\n",
    "                name.append(filename)"
   ]
  },
  {
   "cell_type": "code",
   "execution_count": 5,
   "metadata": {},
   "outputs": [],
   "source": [
    "with open('C:/Users/Suryansh/OneDrive - University College Dublin/Desktop/ucd/Stage4/FYP/New/Context/Files/negro_slave.txt','w') as f:\n",
    "    for item in name:\n",
    "        f.write(\"%s\\n\" % item)"
   ]
  }
 ],
 "metadata": {
  "kernelspec": {
   "display_name": "Python 3",
   "language": "python",
   "name": "python3"
  },
  "language_info": {
   "codemirror_mode": {
    "name": "ipython",
    "version": 3
   },
   "file_extension": ".py",
   "mimetype": "text/x-python",
   "name": "python",
   "nbconvert_exporter": "python",
   "pygments_lexer": "ipython3",
   "version": "3.6.5"
  }
 },
 "nbformat": 4,
 "nbformat_minor": 2
}
